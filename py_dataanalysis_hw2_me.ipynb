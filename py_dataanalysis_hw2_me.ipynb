{
 "cells": [
  {
   "cell_type": "markdown",
   "metadata": {},
   "source": [
    "<div class=\"alert alert-block alert-info\"> <h1>Homework</h1> </div>"
   ]
  },
  {
   "cell_type": "markdown",
   "metadata": {},
   "source": [
    "<h3> 下面為世大運相關的新聞 </h3> <br>\n",
    "試寫出一個可以輸入新聞及查詢字串出現次數的 `function` \n",
    "> 新聞1 出處：http://www.chinapost.com.tw/taiwan/national/national-news/2017/07/31/499734/taipei-universiade.htm <br>\n",
    "> 新聞2 出處：http://www.taipeitimes.com/News/front/archives/2017/08/20/2003676836"
   ]
  },
  {
   "cell_type": "markdown",
   "metadata": {},
   "source": [
    "```python\n",
    "news1 = \"Taipei - The Universiade-themed interior design featured in some Taipei Metro trains have attracted attention of foreign media. Fancy a swim or a game of basketball in the Taipei Metro ? The Singapore-based Strait Times asked in its report of the ad . Now you can - thanks to the help of some realistic 3D artwork that has transformed a six-car subway train into six different sporting venues , the newpaper report. There is a swimming pool , a football pitch , a baseball diamond , a basketball court, a running track and a field for throwing sports . The car with the swimming pool venue , which looks like a real water surface , has proven to be the most popular with commuters and tourists on social media , Strait Times said . Several commuters , decked out in swim gear , have also been spotted taking advantage of the Instagram-worthy photo opportunities , the paper continued . The artwork was also covered by the CNN , which interviewed the local water sports athlete Hsu Tzu-Hsiung who took photo of himself swimming in the metro car . Hsu told CNN : I waited until most of the passengers got off the train to take pictures . I think it's a fun campaign to raise awareness about sport in general among Taiwanese and get the public to get involved in the games .\"\n",
    "```"
   ]
  },
  {
   "cell_type": "markdown",
   "metadata": {},
   "source": [
    "```python\n",
    "news2 = \"International University Sports Federation ( FISU ) president Oleg Matytsin yesterday said the term Chinese Taipei has been used for Taiwan's Taipei Summer Universiade teams because the federation must conform to the International Olympic Committee's ( IOC ) Olympic Movement rules. Matytsin made the remark at a news conference in Taipei yesterday, a few hours before the Universiade opening ceremony. He said that delegations from 141 countries , including 7,746 athletes and 3,796 support staff , would be attending the Universiade this year . As of Friday , 119 delegations, including 5,477 athletes and 2,619 support staff , had arrived . The official Universiade media guide had used Chinese Taipei , but later changed it to Taiwan after legislators and the public expressed their discontent . Earlier this month, the Universiade Organizing Committee said that the term Chinese Taipei was changed by the federation during a content review , but the committee changed it back to Taiwan in the geographical introduction section of the guide, and informed the federation . Yesterday , Matytsin said the media guide was not corrected and the change to Taiwan was decided on to introduce the country and its outlying islands . The federation is an IOC-recognized organization , so it has to conform to the Olympic Movement rules and regulations , he said , adding that he knows many people are disappointed about using Chinese Taipei , but the rules must be followed . The flag and team logo must remain as Chinese Taipei . Respect the rules , Matytsin said . Today , I believe it's very important to educate people how to play according to the rules . Matytsin said Taipei has provided high-quality accommodation to athletes and support staff from around the world , and the passion and hospitality shown in Taipei are considered gold-medal standard . For the young athletes attending the Universiade it will be a positive experience and they will likely remember Taipei if they go on to become leaders in sports, business or politics , he said .\"\n",
    "```"
   ]
  },
  {
   "cell_type": "markdown",
   "metadata": {},
   "source": [
    "<div class=\"alert alert-block alert-warning\"> <h1>Note</h1> </div>"
   ]
  },
  {
   "cell_type": "markdown",
   "metadata": {},
   "source": [
    "Function 可以定義為以下形式\n",
    "```python\n",
    "def check_news_wordcount( news, word )\n",
    "```"
   ]
  },
  {
   "cell_type": "code",
   "execution_count": 1,
   "metadata": {
    "collapsed": true
   },
   "outputs": [],
   "source": [
    "def check_news_wordcount( news, word ):\n",
    "    ''' \n",
    "    第一個參數 news: 輸入一則文章\n",
    "    第二個參數 word: 輸入想計算次數的文字\n",
    "    回傳：word 在該篇文之的次數\n",
    "    '''\n",
    "    news_split = news.split(\" \")\n",
    "    word_count = 0\n",
    "    for i in news_split:\n",
    "        if i== word:\n",
    "            word_count += 1  \n",
    "    return word_count"
   ]
  },
  {
   "cell_type": "markdown",
   "metadata": {},
   "source": [
    "<h3> 分別計算 news1 及 news2 中 `Taipei` 出現的次數 </h3> "
   ]
  },
  {
   "cell_type": "code",
   "execution_count": 2,
   "metadata": {
    "collapsed": true
   },
   "outputs": [],
   "source": [
    "news1 = \"Taipei - The Universiade-themed interior design featured in some Taipei Metro trains have attracted attention of foreign media. Fancy a swim or a game of basketball in the Taipei Metro ? The Singapore-based Strait Times asked in its report of the ad . Now you can - thanks to the help of some realistic 3D artwork that has transformed a six-car subway train into six different sporting venues , the newpaper report. There is a swimming pool , a football pitch , a baseball diamond , a basketball court, a running track and a field for throwing sports . The car with the swimming pool venue , which looks like a real water surface , has proven to be the most popular with commuters and tourists on social media , Strait Times said . Several commuters , decked out in swim gear , have also been spotted taking advantage of the Instagram-worthy photo opportunities , the paper continued . The artwork was also covered by the CNN , which interviewed the local water sports athlete Hsu Tzu-Hsiung who took photo of himself swimming in the metro car . Hsu told CNN : I waited until most of the passengers got off the train to take pictures . I think it's a fun campaign to raise awareness about sport in general among Taiwanese and get the public to get involved in the games .\""
   ]
  },
  {
   "cell_type": "code",
   "execution_count": 3,
   "metadata": {
    "collapsed": true
   },
   "outputs": [],
   "source": [
    "news2 = \"International University Sports Federation ( FISU ) president Oleg Matytsin yesterday said the term Chinese Taipei has been used for Taiwan's Taipei Summer Universiade teams because the federation must conform to the International Olympic Committee's ( IOC ) Olympic Movement rules. Matytsin made the remark at a news conference in Taipei yesterday, a few hours before the Universiade opening ceremony. He said that delegations from 141 countries , including 7,746 athletes and 3,796 support staff , would be attending the Universiade this year . As of Friday , 119 delegations, including 5,477 athletes and 2,619 support staff , had arrived . The official Universiade media guide had used Chinese Taipei , but later changed it to Taiwan after legislators and the public expressed their discontent . Earlier this month, the Universiade Organizing Committee said that the term Chinese Taipei was changed by the federation during a content review , but the committee changed it back to Taiwan in the geographical introduction section of the guide, and informed the federation . Yesterday , Matytsin said the media guide was not corrected and the change to Taiwan was decided on to introduce the country and its outlying islands . The federation is an IOC-recognized organization , so it has to conform to the Olympic Movement rules and regulations , he said , adding that he knows many people are disappointed about using Chinese Taipei , but the rules must be followed . The flag and team logo must remain as Chinese Taipei . Respect the rules , Matytsin said . Today , I believe it's very important to educate people how to play according to the rules . Matytsin said Taipei has provided high-quality accommodation to athletes and support staff from around the world , and the passion and hospitality shown in Taipei are considered gold-medal standard . For the young athletes attending the Universiade it will be a positive experience and they will likely remember Taipei if they go on to become leaders in sports, business or politics , he said .\""
   ]
  },
  {
   "cell_type": "code",
   "execution_count": 4,
   "metadata": {},
   "outputs": [
    {
     "data": {
      "text/plain": [
       "3"
      ]
     },
     "execution_count": 4,
     "metadata": {},
     "output_type": "execute_result"
    }
   ],
   "source": [
    "check_news_wordcount(news1,'Taipei')"
   ]
  },
  {
   "cell_type": "code",
   "execution_count": 5,
   "metadata": {
    "scrolled": true
   },
   "outputs": [
    {
     "data": {
      "text/plain": [
       "10"
      ]
     },
     "execution_count": 5,
     "metadata": {},
     "output_type": "execute_result"
    }
   ],
   "source": [
    "check_news_wordcount(news2,'Taipei')"
   ]
  }
 ],
 "metadata": {
  "kernelspec": {
   "display_name": "Python 3",
   "language": "python",
   "name": "python3"
  },
  "language_info": {
   "codemirror_mode": {
    "name": "ipython",
    "version": 3
   },
   "file_extension": ".py",
   "mimetype": "text/x-python",
   "name": "python",
   "nbconvert_exporter": "python",
   "pygments_lexer": "ipython3",
   "version": "3.6.2"
  }
 },
 "nbformat": 4,
 "nbformat_minor": 2
}

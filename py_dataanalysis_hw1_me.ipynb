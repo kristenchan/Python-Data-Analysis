{
 "cells": [
  {
   "cell_type": "markdown",
   "metadata": {},
   "source": [
    "<div class=\"alert alert-block alert-info\"> <h1>Homework</h1> </div>"
   ]
  },
  {
   "cell_type": "markdown",
   "metadata": {},
   "source": [
    "<h3> 共有 10 個參加測驗的受測者\n",
    "<br> 下面共有<font color='blue'>四個list</font>分別紀錄了這些受測者的<font color='green'>姓名(name),身高(height),體重(weight),受測成績(score)</font></h3>\n",
    "\n",
    "> 體重(weight): kg , 身高(height):cm"
   ]
  },
  {
   "cell_type": "code",
   "execution_count": 1,
   "metadata": {
    "collapsed": true
   },
   "outputs": [],
   "source": [
    "name = ['Emma', 'Eathon', 'Sophia', 'Mia', 'Aria', 'Jackson', 'Easton', 'Vivian', 'Chase', 'Jason']\n",
    "height = [157, 164, 158, 169, 178, 159, 169, 171, 175, 168]\n",
    "weight = [52, 59, 70, 60, 65, 74, 56, 63, 66, 59]\n",
    "score = [57 ,76 ,99, 87, 98, 79, 92, 29, 88, 95]"
   ]
  },
  {
   "cell_type": "markdown",
   "metadata": {},
   "source": [
    "### 利用 numpy 套件，計算這些受測者的平均成績"
   ]
  },
  {
   "cell_type": "code",
   "execution_count": 2,
   "metadata": {},
   "outputs": [
    {
     "data": {
      "text/plain": [
       "80.0"
      ]
     },
     "execution_count": 2,
     "metadata": {},
     "output_type": "execute_result"
    }
   ],
   "source": [
    "import numpy as np\n",
    "np.mean(np.array(score))"
   ]
  },
  {
   "cell_type": "markdown",
   "metadata": {},
   "source": [
    "### 計算出這 10 位受測者的 BMI ， 並存入一個名為 bmi 的 ndarray 中\n",
    "\n",
    "> BMI 的公式 : $\\cfrac{體重(kg)}{身高(m)^2}$  "
   ]
  },
  {
   "cell_type": "code",
   "execution_count": 3,
   "metadata": {
    "collapsed": true
   },
   "outputs": [],
   "source": [
    "bmi = np.array(weight) / ((np.array(height)/100)**2)"
   ]
  },
  {
   "cell_type": "code",
   "execution_count": 4,
   "metadata": {},
   "outputs": [
    {
     "name": "stdout",
     "output_type": "stream",
     "text": [
      "[ 21.09619051  21.93634741  28.04037814  21.0076678   20.51508648\n",
      "  29.27099403  19.60715661  21.5450908   21.55102041  20.90419501]\n"
     ]
    }
   ],
   "source": [
    "print(bmi)"
   ]
  }
 ],
 "metadata": {
  "kernelspec": {
   "display_name": "Python 3",
   "language": "python",
   "name": "python3"
  },
  "language_info": {
   "codemirror_mode": {
    "name": "ipython",
    "version": 3
   },
   "file_extension": ".py",
   "mimetype": "text/x-python",
   "name": "python",
   "nbconvert_exporter": "python",
   "pygments_lexer": "ipython3",
   "version": "3.6.2"
  }
 },
 "nbformat": 4,
 "nbformat_minor": 2
}

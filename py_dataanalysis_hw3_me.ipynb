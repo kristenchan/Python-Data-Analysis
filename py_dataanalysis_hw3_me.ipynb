{
 "cells": [
  {
   "cell_type": "markdown",
   "metadata": {},
   "source": [
    "<div class=\"alert alert-block alert-info\"> <h1>Homework</h1> </div>"
   ]
  },
  {
   "cell_type": "markdown",
   "metadata": {},
   "source": [
    "###  建立一個數字判斷的  `my_number` 的 Module \n",
    "裡面包含兩個 `Function`\n",
    "1. 判斷一整數是否為質數的程式\n",
    "2. 判斷一整數為奇數或偶數的程式 <br>\n",
    "\n",
    "#### Step1. 建立一個名為 `is_prime` 的 `function` ，當你輸入一個整數時會回傳你 `True` 或 `False`\n",
    "> Function 可以定義為以下形式\n",
    "```python\n",
    "def is_prime( num )\n",
    "```"
   ]
  },
  {
   "cell_type": "markdown",
   "metadata": {},
   "source": [
    "```python\n",
    "def is_prime( num ):\n",
    "    if num > 2:\n",
    "        for i in range(2,num):\n",
    "            if (num % i) == 0:\n",
    "                result = True\n",
    "                break\n",
    "            else:\n",
    "                result = False\n",
    "    else:\n",
    "        result = False\n",
    "    return result\n",
    "```"
   ]
  },
  {
   "cell_type": "markdown",
   "metadata": {},
   "source": [
    "#### Step2. 建立一個名為 `odd_even` 的 `function` ，當你輸入一個整數時會回傳你 `Odd` 或 `Even`\n",
    "> Function 可以定義為以下形式\n",
    "```python\n",
    "def odd_even( num )\n",
    "```"
   ]
  },
  {
   "cell_type": "markdown",
   "metadata": {},
   "source": [
    "```python\n",
    "def odd_even( num ):\n",
    "    if num % 2 == 0:\n",
    "        result = 'Even'\n",
    "    else:\n",
    "        result = 'Odd'\n",
    "    return result\n",
    "```"
   ]
  },
  {
   "cell_type": "markdown",
   "metadata": {},
   "source": [
    "#### Step2. 建立一個名為 `numbers` 的 .py 檔"
   ]
  },
  {
   "cell_type": "markdown",
   "metadata": {},
   "source": [
    "#### Step3. 引入 `numbers` Module"
   ]
  },
  {
   "cell_type": "markdown",
   "metadata": {},
   "source": [
    "#### Step4. 判斷 `my_number` 是否為質數以及它是偶數還是奇數，並將結果存成一個 2d-ndarray"
   ]
  },
  {
   "cell_type": "code",
   "execution_count": 1,
   "metadata": {
    "collapsed": true
   },
   "outputs": [],
   "source": [
    "my_num = [23 ,42 ,68 ,79 ,93 ,97, 99, 124, 131, 145, 177]"
   ]
  },
  {
   "cell_type": "markdown",
   "metadata": {},
   "source": [
    "> 可以建立一個空矩陣，但要讓他是 `string`\n",
    "```python\n",
    "np.empty( (2 ,len(my_number)) ,dtype='<U5' )\n",
    "```"
   ]
  },
  {
   "cell_type": "code",
   "execution_count": 2,
   "metadata": {
    "collapsed": true
   },
   "outputs": [],
   "source": [
    "import numpy as np\n",
    "import my_number"
   ]
  },
  {
   "cell_type": "code",
   "execution_count": 3,
   "metadata": {
    "collapsed": true
   },
   "outputs": [],
   "source": [
    "num = np.empty( (2 , len(my_num)),dtype='<U5' )\n",
    "for i in range(0,len(my_num)):\n",
    "    num[0,i] = my_number.is_prime(my_num[i])\n",
    "    num[1,i] = my_number.odd_even(my_num[i])"
   ]
  },
  {
   "cell_type": "code",
   "execution_count": 4,
   "metadata": {},
   "outputs": [
    {
     "data": {
      "text/plain": [
       "array([['False', 'True', 'True', 'False', 'True', 'False', 'True', 'True',\n",
       "        'False', 'True', 'True'],\n",
       "       ['Odd', 'Even', 'Even', 'Odd', 'Odd', 'Odd', 'Odd', 'Even', 'Odd',\n",
       "        'Odd', 'Odd']],\n",
       "      dtype='<U5')"
      ]
     },
     "execution_count": 4,
     "metadata": {},
     "output_type": "execute_result"
    }
   ],
   "source": [
    "num"
   ]
  }
 ],
 "metadata": {
  "kernelspec": {
   "display_name": "Python 3",
   "language": "python",
   "name": "python3"
  },
  "language_info": {
   "codemirror_mode": {
    "name": "ipython",
    "version": 3
   },
   "file_extension": ".py",
   "mimetype": "text/x-python",
   "name": "python",
   "nbconvert_exporter": "python",
   "pygments_lexer": "ipython3",
   "version": "3.6.2"
  }
 },
 "nbformat": 4,
 "nbformat_minor": 2
}
